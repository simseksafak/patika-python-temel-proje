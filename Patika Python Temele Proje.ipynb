{
 "cells": [
  {
   "cell_type": "code",
   "execution_count": null,
   "id": "04bcc9ff",
   "metadata": {},
   "outputs": [],
   "source": [
    "#1- Bir listeyi düzleştiren (flatten) fonksiyon yazın. \n",
    "Elemanları birden çok katmanlı listelerden ([[3],2] gibi) oluşabileceği gibi, \n",
    "non-scalar verilerden de oluşabilir"
   ]
  },
  {
   "cell_type": "code",
   "execution_count": 13,
   "id": "814fd457",
   "metadata": {},
   "outputs": [
    {
     "name": "stdout",
     "output_type": "stream",
     "text": [
      "[1, 'a', 'cat', 2, 3, 'dog', 4, 5]\n"
     ]
    }
   ],
   "source": [
    "l1 = [[1,'a',['cat'],2],[[[3]],'dog'],4,5]\n",
    "flatten_l1 = []\n",
    "def flatten(n):\n",
    "    for i in n :\n",
    "        if type(i) is list:\n",
    "            flatten(i)\n",
    "        else:\n",
    "            flatten_l1.append(i)\n",
    "\n",
    "flatten(l1)\n",
    "print(flatten_l1)"
   ]
  },
  {
   "cell_type": "code",
   "execution_count": null,
   "id": "b33834e7",
   "metadata": {},
   "outputs": [],
   "source": [
    "#2- Verilen listenin içindeki elemanları tersine döndüren bir fonksiyon yazın. \n",
    "Eğer listenin içindeki elemanlar da liste içeriyorsa onların elemanlarını da tersine döndürün."
   ]
  },
  {
   "cell_type": "code",
   "execution_count": 15,
   "id": "2a48918c",
   "metadata": {},
   "outputs": [
    {
     "name": "stdout",
     "output_type": "stream",
     "text": [
      "[[7, 6, 5], [4, 3], [2, 1]]\n"
     ]
    }
   ],
   "source": [
    "list1 = [[1, 2], [3, 4], [5, 6, 7]]\n",
    "list1.reverse()\n",
    "for i in range(len(list1)):\n",
    "    (list1[i])=(list1[i])[::-1]\n",
    "\n",
    "print(list1)"
   ]
  },
  {
   "cell_type": "code",
   "execution_count": null,
   "id": "d3fa855b",
   "metadata": {},
   "outputs": [],
   "source": []
  }
 ],
 "metadata": {
  "kernelspec": {
   "display_name": "Python 3 (ipykernel)",
   "language": "python",
   "name": "python3"
  },
  "language_info": {
   "codemirror_mode": {
    "name": "ipython",
    "version": 3
   },
   "file_extension": ".py",
   "mimetype": "text/x-python",
   "name": "python",
   "nbconvert_exporter": "python",
   "pygments_lexer": "ipython3",
   "version": "3.9.12"
  }
 },
 "nbformat": 4,
 "nbformat_minor": 5
}
